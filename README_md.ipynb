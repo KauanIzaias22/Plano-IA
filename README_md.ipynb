{
  "nbformat": 4,
  "nbformat_minor": 0,
  "metadata": {
    "colab": {
      "provenance": [],
      "toc_visible": true,
      "authorship_tag": "ABX9TyPgiCDWKeD978Z+fivr7r55",
      "include_colab_link": true
    },
    "kernelspec": {
      "name": "python3",
      "display_name": "Python 3"
    },
    "language_info": {
      "name": "python"
    }
  },
  "cells": [
    {
      "cell_type": "markdown",
      "metadata": {
        "id": "view-in-github",
        "colab_type": "text"
      },
      "source": [
        "<a href=\"https://colab.research.google.com/github/KauanIzaias22/Plano-IA/blob/main/README_md.ipynb\" target=\"_parent\"><img src=\"https://colab.research.google.com/assets/colab-badge.svg\" alt=\"Open In Colab\"/></a>"
      ]
    },
    {
      "cell_type": "markdown",
      "source": [
        "## Readme\n"
      ],
      "metadata": {
        "id": "3jTkl2VWtifs"
      }
    },
    {
      "cell_type": "markdown",
      "source": [
        "# Rota Inteligente: Otimização de Entregas com Algoritmos de IA\n",
        "\n",
        "## Descrição do Problema\n",
        "A empresa **Sabor Express**, de delivery de alimentos, enfrenta atrasos e custos altos devido à definição manual das rotas dos entregadores, especialmente em horários de pico. O desafio é desenvolver uma **solução inteligente**, utilizando algoritmos de Inteligência Artificial, capaz de sugerir as **melhores rotas de entrega**, considerando múltiplos pedidos, agrupando entregas próximas e otimizando o trajeto dos entregadores.\n",
        "\n",
        "## Objetivos\n",
        "- Reduzir o tempo de entrega e o custo operacional.  \n",
        "- Agrupar pedidos próximos usando **K-Means**.  \n",
        "- Encontrar rotas eficientes entre múltiplos pontos utilizando **algoritmos de grafos** (Dijkstra, Nearest Neighbor, 2-opt).  \n",
        "- Visualizar rotas e clusters de pedidos de forma clara.  \n",
        "\n",
        "## Abordagem Adotada\n",
        "1. **Geração de pedidos simulados** com latitude e longitude.  \n",
        "2. **Agrupamento de pedidos** em clusters usando **K-Means** (número de clusters = número de entregadores).  \n",
        "3. **Construção de um grafo grade** representando ruas, conectando nós vizinhos com pesos baseados na distância euclidiana.  \n",
        "4. **Mapeamento de cada pedido** para o nó mais próximo do grafo.  \n",
        "5. **Cálculo das rotas**:  \n",
        "   - **All pairs shortest paths** com Dijkstra.  \n",
        "   - **Nearest Neighbor** para gerar uma rota inicial.  \n",
        "   - **2-opt** para melhorar a rota heuristicamente.  \n",
        "6. **Plotagem final das rotas** e clusters no grafo, com destaque para depósito e nós visitados.\n",
        "\n",
        "## Algoritmos Utilizados\n",
        "- **K-Means**: para agrupamento de pedidos por proximidade geográfica.  \n",
        "- **Dijkstra**: para cálculo do caminho mais curto entre nós do grafo.  \n",
        "- **Nearest Neighbor**: heurística para gerar rotas iniciais.  \n",
        "- **2-opt**: melhoria de rotas para reduzir distância total percorrida.  \n",
        "\n",
        "## Diagrama do Grafo\n",
        "O grafo é uma grade (7x7) mapeada para a latitude e longitude dos pedidos. Cada nó representa um ponto da cidade, conectado a seus vizinhos mais próximos, e o depósito é centralizado.\n",
        "\n",
        "![Exemplo de grafo com rotas e clusters](exemplo_grafo.png)  \n",
        "*(Substitua `exemplo_grafo.png` pelo print gerado no código)*\n",
        "\n",
        "## Análise dos Resultados\n",
        "- Todas as rotas foram otimizadas dentro de cada cluster de pedidos.  \n",
        "- A soma das distâncias estimadas para todas as rotas foi reduzida em comparação a um percurso aleatório.  \n",
        "- Visualmente, as rotas evitam sobreposição excessiva e respeitam o agrupamento geográfico.  \n",
        "- **Limitações:**  \n",
        "  - Modelo simulado (pedidos gerados aleatoriamente).  \n",
        "  - Não considera trânsito ou tempo de espera real.  \n",
        "  - Heurísticas podem não garantir a distância mínima global.  \n",
        "- **Sugestões de melhoria:**  \n",
        "  - Integrar dados reais de trânsito.  \n",
        "  - Aplicar algoritmos avançados de otimização (ex.: A*, MILP, Reinforcement Learning).  \n",
        "  - Ajustar dinamicamente o número de clusters conforme a demanda.\n",
        "\n",
        "## Como Executar o Projeto\n",
        "1.\n",
        "Projeto no repositorio\n"
      ],
      "metadata": {
        "id": "AoXLIG6KuuX7"
      }
    },
    {
      "cell_type": "markdown",
      "source": [
        "## **Contato**\n",
        "\n",
        "Nome: Kauan Izaias\n",
        "\n",
        "GitHub: Kauanizaias22\n",
        "\n",
        "E-mail: kauanizias394@gmail.com\n",
        "\n",
        "Repositorio do trabalho: Plano_de_trabalho_IA.ipynb"
      ],
      "metadata": {
        "id": "fu9RI30yvH61"
      }
    }
  ]
}